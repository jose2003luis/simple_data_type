{
  "nbformat": 4,
  "nbformat_minor": 0,
  "metadata": {
    "colab": {
      "provenance": [],
      "authorship_tag": "ABX9TyPGehLvrBT2G48yv39S0NU6",
      "include_colab_link": true
    },
    "kernelspec": {
      "name": "python3",
      "display_name": "Python 3"
    },
    "language_info": {
      "name": "python"
    }
  },
  "cells": [
    {
      "cell_type": "markdown",
      "metadata": {
        "id": "view-in-github",
        "colab_type": "text"
      },
      "source": [
        "<a href=\"https://colab.research.google.com/github/jose2003luis/simple_data_type/blob/main/simple_data_type_py.ipynb\" target=\"_parent\"><img src=\"https://colab.research.google.com/assets/colab-badge.svg\" alt=\"Open In Colab\"/></a>"
      ]
    },
    {
      "cell_type": "markdown",
      "source": [
        "Write a program that displays the string Hello World! on the screen.\n",
        "---\n",
        "\n",
        "\n",
        "\n",
        "\n"
      ],
      "metadata": {
        "id": "i6twLfRmUmND"
      }
    },
    {
      "cell_type": "code",
      "source": [
        "print(\"Hello world\")"
      ],
      "metadata": {
        "colab": {
          "base_uri": "https://localhost:8080/"
        },
        "id": "-YQWr1XuUn1E",
        "outputId": "6fd4118d-5070-4495-a870-86dd1fbabb11"
      },
      "execution_count": 1,
      "outputs": [
        {
          "output_type": "stream",
          "name": "stdout",
          "text": [
            "Hello world\n"
          ]
        }
      ]
    },
    {
      "cell_type": "markdown",
      "source": [
        "Write a program that stores the string Hello World! in a variable and then display the contents of the variable on the screen.\n"
      ],
      "metadata": {
        "id": "smEFkgYAUwpH"
      }
    },
    {
      "cell_type": "code",
      "source": [
        "a=(\"hello world\")\n",
        "print(a)"
      ],
      "metadata": {
        "colab": {
          "base_uri": "https://localhost:8080/"
        },
        "id": "GptoBokmU823",
        "outputId": "e30bb04e-8961-459b-acf1-0eaa5a9e653d"
      },
      "execution_count": 3,
      "outputs": [
        {
          "output_type": "stream",
          "name": "stdout",
          "text": [
            "hello world\n"
          ]
        }
      ]
    },
    {
      "cell_type": "markdown",
      "source": [
        "Write a program that asks for the username in the console and then\n",
        "\n",
        "1. List item\n",
        "2. List item\n",
        "\n",
        "After the user enters it, it displays the string Hello <name>!, where <name> is the name that the user has entered.\n"
      ],
      "metadata": {
        "id": "IJaa-mH1VOjh"
      }
    },
    {
      "cell_type": "code",
      "source": [
        "a=input(\"Enter your nuame: \")\n",
        "print(\"Hello\",a)"
      ],
      "metadata": {
        "colab": {
          "base_uri": "https://localhost:8080/"
        },
        "id": "VM6ZUZ0jVUAo",
        "outputId": "17d212ef-31b2-4ada-c440-4741fa75d298"
      },
      "execution_count": 2,
      "outputs": [
        {
          "output_type": "stream",
          "name": "stdout",
          "text": [
            "Enter your nuame: jose luis blanco arrisuño☺\n",
            "Hello jose luis blanco arrisuño☺\n"
          ]
        }
      ]
    },
    {
      "cell_type": "markdown",
      "source": [
        "Write a program that displays the result of the following arithmetic operation on the screen.\n",
        "\n",
        "\n",
        "\n",
        "\n",
        "$ (\\frac{3+2}{2.5})^2$"
      ],
      "metadata": {
        "id": "5EHCcjEiVzcX"
      }
    },
    {
      "cell_type": "code",
      "source": [
        "from math import*\n",
        "numerator=3+2\n",
        "denominator=2*5\n",
        "result=numerator/denominator\n",
        "finish=pow(result,2)#use the pow function to square\n",
        "print(\"your answer is: \",finish)"
      ],
      "metadata": {
        "colab": {
          "base_uri": "https://localhost:8080/"
        },
        "id": "l-hpESt4YiVC",
        "outputId": "4bd07182-1564-4c10-d23d-4594cfcc5aca"
      },
      "execution_count": 4,
      "outputs": [
        {
          "output_type": "stream",
          "name": "stdout",
          "text": [
            "your answer is:  0.25\n"
          ]
        }
      ]
    },
    {
      "cell_type": "markdown",
      "source": [
        "Write a program that asks the user for the number of hours worked and the cost per hour. Then you must display the corresponding payment on the screen."
      ],
      "metadata": {
        "id": "JN9sTmfRb9w7"
      }
    },
    {
      "cell_type": "code",
      "source": [
        "hours=int(input(\"Enter your hours worked: \"))\n",
        "price_x_h=int(input(\"Enter the price for hours worked: \"))\n",
        "salary=hours*price_x_h\n",
        "print(\"Congratulations Your Salary is GOOD!!!! ☺☺☺ !!!! : \",salary ,\"$$$$$\")\n",
        "\n"
      ],
      "metadata": {
        "colab": {
          "base_uri": "https://localhost:8080/"
        },
        "id": "7PSyQ1S5cBKU",
        "outputId": "6a34742f-7e7b-4d4b-8aaa-ab495143f559"
      },
      "execution_count": 5,
      "outputs": [
        {
          "output_type": "stream",
          "name": "stdout",
          "text": [
            "Enter your hours worked: 1000\n",
            "Enter the price for hours worked: 1200\n",
            "Congratulations Your Salary is GOOD!!!! ☺☺☺ !!!! :  1200000 $$$$$\n"
          ]
        }
      ]
    },
    {
      "cell_type": "markdown",
      "source": [
        "Write a program that reads a positive integer, $n$\n",
        ">\n",
        "\n",
        "\n",
        ", entered by the user and then display the sum of all integers from 1 to $n$\n",
        ". The sum of the $n$\n",
        " first positive integers can be calculated as follows:\n",
        "  $suma = \\frac {n(n+1)}{2}$"
      ],
      "metadata": {
        "id": "x9C0J-ctdR4o"
      }
    },
    {
      "cell_type": "code",
      "source": [
        "n=int(input(\"Enter a whole number: \"))\n",
        "sum= n*(n+1)/2\n",
        "print(\"The sum of the numbers from 1 to \"+str(n)+\" is iqual to : \"+str(sum))# Use the function str for convert varible sum to string\n"
      ],
      "metadata": {
        "colab": {
          "base_uri": "https://localhost:8080/"
        },
        "id": "aA9vdjz4eJr5",
        "outputId": "918d9f9c-7dce-4737-8b18-5eb0146ad4a1"
      },
      "execution_count": 6,
      "outputs": [
        {
          "output_type": "stream",
          "name": "stdout",
          "text": [
            "Enter a whole number: 2\n",
            "The sum of the numbers from 1 to 2 is iqual to : 3.0\n"
          ]
        }
      ]
    },
    {
      "cell_type": "markdown",
      "source": [
        "Write a program that asks the user for their weight (in kg) and height (in meters), calculates the body mass index and stores it in a variable, and displays the phrase Your body mass index is <bmi> where < bmi> is the calculated body mass index rounded to two decimal places.\n",
        "\n",
        "\n"
      ],
      "metadata": {
        "id": "_TMmI30lfzq4"
      }
    },
    {
      "cell_type": "code",
      "source": [
        "# solution one\n",
        "weihgt=float(input(\"Enter your body weihgt: \"))\n",
        "heihgt=float(input(\"Enter your body weihgt in meters: \"))\n",
        "body_mass_index=round((weihgt/heihgt)**2,2)\n",
        "print(\"Your body mass index is \"+str(body_mass_index))\n",
        "# solution two\n",
        "w=input(\"your weihgt: \")\n",
        "h=input(\"Your heihgt: \")\n",
        "index=pow((float(w)/float(h)),2)\n",
        "index=round(index,2)#function round, to round two decimal places\n",
        "print(\"your body mass index is: \",index)\n",
        "\n"
      ],
      "metadata": {
        "colab": {
          "base_uri": "https://localhost:8080/"
        },
        "id": "It-Ky4h1k9TA",
        "outputId": "0f56f3de-3e03-4554-86a1-79a64254d6ec"
      },
      "execution_count": 7,
      "outputs": [
        {
          "output_type": "stream",
          "name": "stdout",
          "text": [
            "Enter your body weihgt: 168\n",
            "Enter your body weihgt in meters: 168\n",
            "Your body mass index is 1.0\n",
            "your weihgt: 70\n",
            "Your heihgt: 168\n",
            "your body mass index is:  0.17\n"
          ]
        }
      ]
    },
    {
      "cell_type": "markdown",
      "source": [
        "Write a program that prompts the user for two integers and displays the <n> between <m> gives a quotient <c> and a remainder <r> where <n> and <m> are the numbers entered by the user, and <c> and <r> are the quotient and remainder of integer division respectively.\n",
        "\n",
        "\n"
      ],
      "metadata": {
        "id": "y3d00Jz6oDfD"
      }
    },
    {
      "cell_type": "code",
      "source": [
        "a =int(input(\"Enter the dividend (integer): \"))\n",
        "b =int(input(\"Enter the divisor (integer): \"))\n",
        "print(\"The division of \" + str(a)+ \" and \" + str(b) + \" is equal to  \"+ str((a)//(b)) + \" as a quotinent with \" + str((a)%(b)) + \" as a remainder \")"
      ],
      "metadata": {
        "id": "f_ejcM3P5Xab",
        "outputId": "37932568-3e7b-4829-9990-6370f369f7e0",
        "colab": {
          "base_uri": "https://localhost:8080/"
        }
      },
      "execution_count": 17,
      "outputs": [
        {
          "output_type": "stream",
          "name": "stdout",
          "text": [
            "Enter the dividend (integer): 76\n",
            "Enter the divisor (integer): 34\n",
            "The division of 76 and 34 is equal to  2 of quotinent with 8 of remainder \n"
          ]
        }
      ]
    },
    {
      "cell_type": "markdown",
      "source": [
        "Write a program that asks the user for an amount to invest, the annual interest and the number of years, and shows the capital obtained on the investment on the screen."
      ],
      "metadata": {
        "id": "0FUN4MgB--_e"
      }
    },
    {
      "cell_type": "code",
      "source": [
        "amount = float(input(\"Enter the amount to invest \"))\n",
        "interest = float(input(\"Enter the annual interest \"))\n",
        "years = int(input(\"Enter the number of year \"))\n",
        "capital = round(amount*(interest/100+1)**years,2)\n",
        "print(\" The final capital is :\",capital , \"☺☺☺☺☺☺☺\")"
      ],
      "metadata": {
        "id": "280r00rZ_OiS",
        "outputId": "17187318-b382-4bba-86c6-07a869d1b247",
        "colab": {
          "base_uri": "https://localhost:8080/"
        }
      },
      "execution_count": 19,
      "outputs": [
        {
          "output_type": "stream",
          "name": "stdout",
          "text": [
            "Enter the amount to invest 10000\n",
            "Enter the annual interest 30\n",
            "Enter the number of year 4\n",
            " The final capital is : 28561.0 ☺☺☺☺☺☺☺\n"
          ]
        }
      ]
    },
    {
      "cell_type": "markdown",
      "source": [
        "A toy store is very successful with two of its products: clowns and dolls. They usually sell by mail and the logistics company charges them by weight of each package, so they must calculate the weight of the clowns and dolls that will appear in each package on demand. Each clown weighs 112 g and each doll 75 g. Write a program that reads the number of clowns and dolls sold in the last order and calculates the total weight of the package to be shipped."
      ],
      "metadata": {
        "id": "p_MeVOJOCHxO"
      }
    },
    {
      "cell_type": "code",
      "source": [
        "clown= int(input(\"Enter the number of clows : \"))*120\n",
        "doll= int(input(\"Enter the number of dolls : \"))*75\n",
        "package=clown+doll\n",
        "print(\"The package is \",package, \"g\")"
      ],
      "metadata": {
        "id": "6hE4qgjnCdtg",
        "outputId": "ef892cb7-453a-4c41-d21d-7b887ab646fb",
        "colab": {
          "base_uri": "https://localhost:8080/"
        }
      },
      "execution_count": 21,
      "outputs": [
        {
          "output_type": "stream",
          "name": "stdout",
          "text": [
            "Enter the number of clows : 5\n",
            "Enter the number of dolls : 5\n",
            "The packega is  975 g\n"
          ]
        }
      ]
    },
    {
      "cell_type": "markdown",
      "source": [
        "Imagine that you have just opened a new savings account that offers you 4% interest per year. These interest savings, which are not collected until the end of the year, are added to your final savings account balance. Write a program that begins by reading the amount of money deposited in the savings account, entered by the user. The program should then calculate and display the amount of savings after the first, second, and third years. Round each amount to two decimal places."
      ],
      "metadata": {
        "id": "XBBROL0hEbqm"
      }
    },
    {
      "cell_type": "code",
      "source": [
        "invest = int(input(\" Enter the invest : \"))\n",
        "interest = 0.04\n",
        "balance= invest * (1+interest)\n",
        "print(\"The fisrt amounth is : \",str(round(balance,2)))\n",
        "balance2= balance * (1+interest)\n",
        "print(\"The second amounth is : \",str(round(balance2,2)))\n",
        "balance3= balance2 * (1+interest)\n",
        "print(\"The second amounth is : \",str(round(balance3,2)))"
      ],
      "metadata": {
        "id": "u8p9gWJJEgZM",
        "outputId": "dc2e5e4c-baf6-4de4-b649-f4195ce9ac1a",
        "colab": {
          "base_uri": "https://localhost:8080/"
        }
      },
      "execution_count": 25,
      "outputs": [
        {
          "output_type": "stream",
          "name": "stdout",
          "text": [
            " Enter the invest : 1000000\n",
            "The fisrt amounth is :  1040000.0\n",
            "The second amounth is :  1081600.0\n",
            "The second amounth is :  1124864.0\n"
          ]
        }
      ]
    },
    {
      "cell_type": "markdown",
      "source": [
        "A bakery sells loaves of bread for €3.49 each. The bread that is not the day has a discount of 60%. Write a program that begins by reading the number of non-day bars sold. Then the program should display the regular price of a loaf of bread, the discount given for not being fresh, and the total final cost."
      ],
      "metadata": {
        "id": "nv8IqyMaHfXf"
      }
    },
    {
      "cell_type": "code",
      "source": [
        "bars = int(input(\"Enter the number of bars sold that are not fresh: \"))\n",
        "price = 3.49\n",
        "discount = 0.6\n",
        "cost = bars * price * (1 - discount)\n",
        "print(\"The cost of a fresh bar is \" + str(price) + \"€\")\n",
        "print(\"The discount on a non-fresh bar is \" + str(discount * 100) + \"%\")\n",
        "print(\"The final cost to pay is \" + str(round(cost, 2)) + \"€\")\n",
        "\n",
        "\n"
      ],
      "metadata": {
        "id": "aiLQecWfHoCr",
        "outputId": "c89add23-f7fd-46e0-a185-23788841aa07",
        "colab": {
          "base_uri": "https://localhost:8080/"
        }
      },
      "execution_count": 26,
      "outputs": [
        {
          "output_type": "stream",
          "name": "stdout",
          "text": [
            "Enter the number of bars sold that are not fresh: 30\n",
            "The cost of a fresh bar is 3.49€\n",
            "The discount on a non-fresh bar is 60.0%\n",
            "The final cost to pay is 41.88€\n"
          ]
        }
      ]
    }
  ]
}