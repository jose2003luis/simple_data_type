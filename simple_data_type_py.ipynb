{
  "nbformat": 4,
  "nbformat_minor": 0,
  "metadata": {
    "colab": {
      "provenance": [],
      "authorship_tag": "ABX9TyPasOZHgU8PT2LyYdnAN7HL",
      "include_colab_link": true
    },
    "kernelspec": {
      "name": "python3",
      "display_name": "Python 3"
    },
    "language_info": {
      "name": "python"
    }
  },
  "cells": [
    {
      "cell_type": "markdown",
      "metadata": {
        "id": "view-in-github",
        "colab_type": "text"
      },
      "source": [
        "<a href=\"https://colab.research.google.com/github/jose2003luis/simple_data_type/blob/main/simple_data_type_py.ipynb\" target=\"_parent\"><img src=\"https://colab.research.google.com/assets/colab-badge.svg\" alt=\"Open In Colab\"/></a>"
      ]
    },
    {
      "cell_type": "markdown",
      "source": [
        "Escribir un programa que muestre por pantalla la cadena ¡Hola Mundo!.\n",
        "\n",
        "\n"
      ],
      "metadata": {
        "id": "i6twLfRmUmND"
      }
    },
    {
      "cell_type": "code",
      "source": [
        "print(\"Hello world\")"
      ],
      "metadata": {
        "colab": {
          "base_uri": "https://localhost:8080/"
        },
        "id": "-YQWr1XuUn1E",
        "outputId": "65b39d79-9c63-49ea-b11c-fffcf354f749"
      },
      "execution_count": 2,
      "outputs": [
        {
          "output_type": "stream",
          "name": "stdout",
          "text": [
            "Hello wordl\n"
          ]
        }
      ]
    },
    {
      "cell_type": "markdown",
      "source": [
        "Escribir un programa que almacene la cadena ¡Hola Mundo! en una variable y luego muestre por pantalla el contenido de la variable.\n",
        "\n",
        "\n"
      ],
      "metadata": {
        "id": "smEFkgYAUwpH"
      }
    },
    {
      "cell_type": "code",
      "source": [
        "a=(\"hello world\")\n",
        "print(a)"
      ],
      "metadata": {
        "colab": {
          "base_uri": "https://localhost:8080/"
        },
        "id": "GptoBokmU823",
        "outputId": "d50088db-d2d1-4868-b383-232cd8b78ed2"
      },
      "execution_count": 3,
      "outputs": [
        {
          "output_type": "stream",
          "name": "stdout",
          "text": [
            "hello world\n"
          ]
        }
      ]
    },
    {
      "cell_type": "markdown",
      "source": [
        "Escribir un programa que pregunte el nombre del usuario en la consola y después de que el usuario lo introduzca muestre por pantalla la cadena ¡Hola <nombre>!, donde <nombre> es el nombre que el usuario haya introducido.\n",
        "\n",
        "\n"
      ],
      "metadata": {
        "id": "IJaa-mH1VOjh"
      }
    },
    {
      "cell_type": "code",
      "source": [
        "a=input(\"Enter your nuame: \")\n",
        "print(\"Hello\",a)"
      ],
      "metadata": {
        "colab": {
          "base_uri": "https://localhost:8080/"
        },
        "id": "VM6ZUZ0jVUAo",
        "outputId": "e08286a9-e324-4428-c943-9d0f86964480"
      },
      "execution_count": 4,
      "outputs": [
        {
          "output_type": "stream",
          "name": "stdout",
          "text": [
            "Enter your nuame: jose luis bblanco ☺\n",
            "Hello jose luis bblanco ☺\n"
          ]
        }
      ]
    },
    {
      "cell_type": "markdown",
      "source": [
        "Escribir un programa que muestre por pantalla el resultado de la siguiente operación aritmética \n",
        " \n",
        "$ (\\frac{3+2}{2.5})^2$"
      ],
      "metadata": {
        "id": "5EHCcjEiVzcX"
      }
    },
    {
      "cell_type": "code",
      "source": [
        "from math import*\n",
        "numerator=3+2\n",
        "denominator=2*5\n",
        "result=numerator/denominator\n",
        "finish=pow(result,2)#use the pow function to square\n",
        "print(\"your answer is: \",finish)"
      ],
      "metadata": {
        "colab": {
          "base_uri": "https://localhost:8080/"
        },
        "id": "l-hpESt4YiVC",
        "outputId": "b6c5266c-bd26-46da-ae48-6604bf7292c2"
      },
      "execution_count": 7,
      "outputs": [
        {
          "output_type": "stream",
          "name": "stdout",
          "text": [
            "your answer is:  0.25\n"
          ]
        }
      ]
    },
    {
      "cell_type": "markdown",
      "source": [
        "Escribir un programa que pregunte al usuario por el número de horas trabajadas y el coste por hora. Después debe mostrar por pantalla la paga que le corresponde.\n",
        "\n",
        "\n"
      ],
      "metadata": {
        "id": "JN9sTmfRb9w7"
      }
    },
    {
      "cell_type": "code",
      "source": [
        "hours=int(input(\"Enter your hours worked: \"))\n",
        "price_x_h=int(input(\"Enter the price for hours worked: \"))\n",
        "salary=hours*price_x_h\n",
        "print(\"Congratulations Your Salary is GOOD!!!! ☺☺☺ !!!! : \",salary ,\"$$$$$\")\n",
        "\n"
      ],
      "metadata": {
        "colab": {
          "base_uri": "https://localhost:8080/"
        },
        "id": "7PSyQ1S5cBKU",
        "outputId": "fcd91c5c-0dbd-46a3-e1ed-46a3c476ad62"
      },
      "execution_count": 9,
      "outputs": [
        {
          "output_type": "stream",
          "name": "stdout",
          "text": [
            "Enter your hours worked: 8\n",
            "Enter the price for hours worked: 100\n",
            "Congratulations Your Salary is GOOD!!!! ☺☺☺ !!!! :  800 $$$$$\n"
          ]
        }
      ]
    },
    {
      "cell_type": "markdown",
      "source": [
        "Escribir un programa que lea un entero positivo, $n$\n",
        ", introducido por el usuario y después muestre en pantalla la suma de todos los enteros desde 1 hasta $n$\n",
        ". La suma de los $n$ \n",
        " primeros enteros positivos puede ser calculada de la siguiente forma:\n",
        " \n",
        "  $suma = \\frac {n(n+1)}{2}$"
      ],
      "metadata": {
        "id": "x9C0J-ctdR4o"
      }
    },
    {
      "cell_type": "code",
      "source": [
        "n=int(input(\"Enter a whole number: \"))\n",
        "sum= n*(n+1)/2\n",
        "print(\"The sum of the numbers from 1 to \"+str(n)+\" is iqual to : \"+str(sum))# Use the function str for convert varible sum to string\n"
      ],
      "metadata": {
        "colab": {
          "base_uri": "https://localhost:8080/"
        },
        "id": "aA9vdjz4eJr5",
        "outputId": "7b91fe3f-8413-454d-dcca-31e56446d55a"
      },
      "execution_count": 11,
      "outputs": [
        {
          "output_type": "stream",
          "name": "stdout",
          "text": [
            "Enter a whole number: 15\n",
            "The sum of the numbers from 1 to 15 is iqual to : 120.0\n"
          ]
        }
      ]
    },
    {
      "cell_type": "markdown",
      "source": [
        "Escribir un programa que pida al usuario su peso (en kg) y estatura (en metros), calcule el índice de masa corporal y lo almacene en una variable, y muestre por pantalla la frase Tu índice de masa corporal es <imc> donde <imc> es el índice de masa corporal calculado redondeado con dos decimales.\n",
        "\n",
        "\n"
      ],
      "metadata": {
        "id": "_TMmI30lfzq4"
      }
    },
    {
      "cell_type": "code",
      "source": [
        "weihgt=float(input(\"Enter your body weihgt: \"))\n",
        "heihgt=float(input(\"Enter your body weihgt in meters: \"))\n",
        "body_mass_index=round((weihgt/heihgt)**2,2)\n",
        "print(\"Your body mass index is \"+str(body_mass_index))\n",
        "\n",
        "w=input(\"your weihgt: \")\n",
        "h=input(\"Your heihgt: \")\n",
        "index=pow((float(w)/float(h)),2)\n",
        "index=round(index,2)#function round, to round two decimal places\n",
        "print(\"your body mass index is: \",index)\n",
        "\n"
      ],
      "metadata": {
        "colab": {
          "base_uri": "https://localhost:8080/"
        },
        "id": "It-Ky4h1k9TA",
        "outputId": "2e37ef0a-4312-48a4-9785-02e60ce1d4ce"
      },
      "execution_count": 15,
      "outputs": [
        {
          "output_type": "stream",
          "name": "stdout",
          "text": [
            "Enter your body weihgt: 80\n",
            "Enter your body weihgt in meters: 1.80\n",
            "Your body mass index is 1975.31\n",
            "your weihgt: 80.0\n",
            "Your heihgt: 1.80\n",
            "your body mass index is:  1975.31\n"
          ]
        }
      ]
    },
    {
      "cell_type": "markdown",
      "source": [
        "Escribir un programa que pida al usuario dos números enteros y muestre por pantalla la <n> entre <m> da un cociente <c> y un resto <r> donde <n> y <m> son los números introducidos por el usuario, y <c> y <r> son el cociente y el resto de la división entera respectivamente.\n",
        "\n",
        "\n"
      ],
      "metadata": {
        "id": "y3d00Jz6oDfD"
      }
    }
  ]
}