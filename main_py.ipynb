{
  "nbformat": 4,
  "nbformat_minor": 0,
  "metadata": {
    "colab": {
      "provenance": [],
      "authorship_tag": "ABX9TyNB7vpYL+ALDtSr365stmTZ",
      "include_colab_link": true
    },
    "kernelspec": {
      "name": "python3",
      "display_name": "Python 3"
    },
    "language_info": {
      "name": "python"
    }
  },
  "cells": [
    {
      "cell_type": "markdown",
      "metadata": {
        "id": "view-in-github",
        "colab_type": "text"
      },
      "source": [
        "<a href=\"https://colab.research.google.com/github/jose2003luis/simple_data_type/blob/main/main_py.ipynb\" target=\"_parent\"><img src=\"https://colab.research.google.com/assets/colab-badge.svg\" alt=\"Open In Colab\"/></a>"
      ]
    },
    {
      "cell_type": "markdown",
      "source": [
        "## exercise\n",
        "\n",
        "\n",
        "Write a program that asks the console for the user's name and an integer number and prints the user's name on different lines on the screen as many times as the number entered.*texto en cursiva*"
      ],
      "metadata": {
        "id": "oCOM3IhZmlwd"
      }
    },
    {
      "cell_type": "code",
      "source": [
        "name = input(\"Enter your name: \")\n",
        "number = int(input(\"Enter your number: \"))\n",
        "print((name + \"\\n\")* number)"
      ],
      "metadata": {
        "colab": {
          "base_uri": "https://localhost:8080/"
        },
        "id": "gGRxMBAgmnpL",
        "outputId": "1f4cb52d-14a8-4866-c82e-5100b178d326"
      },
      "execution_count": 1,
      "outputs": [
        {
          "output_type": "stream",
          "name": "stdout",
          "text": [
            "Enter your name: jose luis blanco arrisueño\n",
            "Enter your number: 20\n",
            "jose luis blanco arrisueño\n",
            "jose luis blanco arrisueño\n",
            "jose luis blanco arrisueño\n",
            "jose luis blanco arrisueño\n",
            "jose luis blanco arrisueño\n",
            "jose luis blanco arrisueño\n",
            "jose luis blanco arrisueño\n",
            "jose luis blanco arrisueño\n",
            "jose luis blanco arrisueño\n",
            "jose luis blanco arrisueño\n",
            "jose luis blanco arrisueño\n",
            "jose luis blanco arrisueño\n",
            "jose luis blanco arrisueño\n",
            "jose luis blanco arrisueño\n",
            "jose luis blanco arrisueño\n",
            "jose luis blanco arrisueño\n",
            "jose luis blanco arrisueño\n",
            "jose luis blanco arrisueño\n",
            "jose luis blanco arrisueño\n",
            "jose luis blanco arrisueño\n",
            "\n"
          ]
        }
      ]
    },
    {
      "cell_type": "markdown",
      "source": [
        "## Exercise\n",
        "\n",
        "Write a program that prompts the console for the user's full name, and then displays the user's full name three times, once with all lowercase letters, once with all uppercase letters, and once with just the first and last letters of the first and last names capitalized. The user can enter his name by combining upper and lower case as he likes.\n"
      ],
      "metadata": {
        "id": "C3bxoMUunrNZ"
      }
    },
    {
      "cell_type": "code",
      "source": [
        "name = input(\"Inrtoduce your name: \")\n",
        "last_name = input (\" Enter your lats name: \")\n",
        "full_name= name+\" \"+last_name\n",
        "print(full_name.lower())#(string method) Lowercase refers  \"hello\"\n",
        "print(full_name.upper())#(string method)Uppercase refers   \"HELLO\"\n",
        "print(full_name.title())#(string method)Capitalization refers  \"Hello\""
      ],
      "metadata": {
        "colab": {
          "base_uri": "https://localhost:8080/"
        },
        "id": "5CbtpF1un0Yc",
        "outputId": "d7c7aa10-3452-485e-e68c-58be0ec3fd9a"
      },
      "execution_count": 3,
      "outputs": [
        {
          "output_type": "stream",
          "name": "stdout",
          "text": [
            "Inrtoduce your name: jose luis blanco arrisueño\n",
            " Enter your lats name: ☺\n",
            "jose luis blanco arrisueño ☺\n",
            "JOSE LUIS BLANCO ARRISUEÑO ☺\n",
            "Jose Luis Blanco Arrisueño ☺\n"
          ]
        }
      ]
    },
    {
      "cell_type": "markdown",
      "source": [
        "## Exercise\n",
        "\n",
        "Write a program that asks the console for the username and after the user enters it, displays `<NAME> has <n> letters`, where `<NAME>` is the uppercase username and `<n>` is the number of letters in the username."
      ],
      "metadata": {
        "id": "OB7LfEF1rp5n"
      }
    },
    {
      "cell_type": "code",
      "source": [
        "name = input(\"Enter your name: \")\n",
        "print(name.upper()+\" has \"+str(len(name))+\" letters ☺\") #funtion len ()returns the number of items in an object"
      ],
      "metadata": {
        "id": "XRL08utdrtkI",
        "colab": {
          "base_uri": "https://localhost:8080/"
        },
        "outputId": "6eff7795-98b5-49f2-f522-bc6f0ac3bafe"
      },
      "execution_count": 4,
      "outputs": [
        {
          "output_type": "stream",
          "name": "stdout",
          "text": [
            "Enter your name: jose luis blanco arrisueño\n",
            "JOSE LUIS BLANCO ARRISUEÑO has 26 letters ☺\n"
          ]
        }
      ]
    },
    {
      "cell_type": "markdown",
      "source": [
        "## Exercise\n",
        "\n",
        "Business phones have the following format `prefix-extension-number` where the prefix is ​​the country code `+34`, and the extension is two digits (eg `+34-913724710-56`). Write a program that prompts the console for a phone number in this format and displays the phone number without the prefix and extension."
      ],
      "metadata": {
        "id": "3lCq6QfQHgIS"
      }
    },
    {
      "cell_type": "code",
      "source": [
        "phone = input(\"Enter the number with the next format: +xx-xxxxxxxxx-xx :\")\n",
        "print(\"The number fhone is : \",phone[4:-3])#the parameter [4:-3] indicates to hide the first 4 and the last three"
      ],
      "metadata": {
        "colab": {
          "base_uri": "https://localhost:8080/"
        },
        "id": "1eRBFYUaHptm",
        "outputId": "acd70503-fb9b-46bc-b393-d983e8c9ab29"
      },
      "execution_count": null,
      "outputs": [
        {
          "output_type": "stream",
          "name": "stdout",
          "text": [
            "Enter the number with the next format: +xx-xxxxxxxxx-xx :+12-123456789-12\n",
            "The number fhone is :  123456789\n"
          ]
        }
      ]
    },
    {
      "cell_type": "markdown",
      "source": [
        "## Exercise\n",
        "\n",
        "Write a program that asks the user to enter a phrase at the console and displays the inverted phrase on the screen."
      ],
      "metadata": {
        "id": "2x9SN8y-Jj2G"
      }
    },
    {
      "cell_type": "code",
      "source": [
        "a = input(\"Enter the new phrase : \")\n",
        "print(a[::-1]) #reverses each character"
      ],
      "metadata": {
        "colab": {
          "base_uri": "https://localhost:8080/"
        },
        "id": "FvT4ro9VKDLB",
        "outputId": "1a700594-592e-43a8-e3ce-2e2f5d160fd0"
      },
      "execution_count": null,
      "outputs": [
        {
          "output_type": "stream",
          "name": "stdout",
          "text": [
            "Enter the new phrase : what's new Old man\n",
            "nam dlO wen s'tahw\n"
          ]
        }
      ]
    },
    {
      "cell_type": "markdown",
      "source": [
        "## Exercise\n",
        "\n",
        "Write a program that asks the user to enter a phrase at the console and a vowel in lower case, and then display the same phrase on the screen but with the vowel entered in upper case."
      ],
      "metadata": {
        "id": "qlb-odVFMrIu"
      }
    },
    {
      "cell_type": "code",
      "source": [
        "phrase = input(\"Enter the phrase: \")\n",
        "vocal = input (\"Enter the lowercase vocal: \")\n",
        "print(phrase.replace(vocal, vocal.upper()))# It is important to leave a space after the comma."
      ],
      "metadata": {
        "colab": {
          "base_uri": "https://localhost:8080/"
        },
        "id": "R3LiiaseMy-H",
        "outputId": "65757647-a218-49de-f721-e70835dd32c3"
      },
      "execution_count": null,
      "outputs": [
        {
          "output_type": "stream",
          "name": "stdout",
          "text": [
            "Enter the phrase: what's new Old man\n",
            "Enter the lowercase vocal: a\n",
            "whAt's new Old mAn\n"
          ]
        }
      ]
    },
    {
      "cell_type": "markdown",
      "source": [
        "##Exercise\n",
        "\n",
        "Write a program that asks for the user's email in the console and displays another email on the screen with the same name (the part before the @) but with the ceu.es domain."
      ],
      "metadata": {
        "id": "k7UCWLH3l_Vx"
      }
    },
    {
      "cell_type": "code",
      "source": [
        "a = str(input(\"Enter the email address : \"))\n",
        "a = str(a)+str(\"@ceu.es\")\n",
        "print(a[:a.find('@')] + '@ceu.es')  #a.find('@') method that returns the index of the first occurrence of the character ‘@’\n"
      ],
      "metadata": {
        "colab": {
          "base_uri": "https://localhost:8080/"
        },
        "id": "igCuoA4VnAae",
        "outputId": "7abce313-826a-42cf-ab45-e300f8645ecd"
      },
      "execution_count": 7,
      "outputs": [
        {
          "output_type": "stream",
          "name": "stdout",
          "text": [
            "Enter the email address : luisblancoa2003@gmail.com\n",
            "luisblancoa2003@ceu.es\n"
          ]
        }
      ]
    },
    {
      "cell_type": "markdown",
      "source": [
        "## Exercise\n",
        "\n",
        "Write a program that asks the console for the price of a product in euros with two decimal places and displays the number of euros and the number of cents of the entered price on the screen."
      ],
      "metadata": {
        "id": "tG-qrVOopiaE"
      }
    },
    {
      "cell_type": "code",
      "source": [
        "price = input(\"Enter the price of the product with two decimal places: \")\n",
        "print(price[:price.find('.')], 'euros and', price[price.find('.')+1:], 'cents.')"
      ],
      "metadata": {
        "colab": {
          "base_uri": "https://localhost:8080/"
        },
        "id": "vnBo2obapupi",
        "outputId": "4f1e2675-e760-4d04-d3d5-c0908ddf3499"
      },
      "execution_count": 11,
      "outputs": [
        {
          "output_type": "stream",
          "name": "stdout",
          "text": [
            "Enter the price of the product with two decimal places: 19.99\n",
            "19 euros and 99 cents.\n"
          ]
        }
      ]
    },
    {
      "cell_type": "markdown",
      "source": [
        "## Exercise\n",
        "\n",
        "Write a program that asks the user for the date of his birth in `mm/dd/yyyy` format and displays the day, month and year on the screen."
      ],
      "metadata": {
        "id": "vzBkTT9rrQtQ"
      }
    },
    {
      "cell_type": "code",
      "source": [
        "date = input(\"Enter the date of your birth in dd/mm/yyyy format: \")\n",
        "print('Day', date[:2])\n",
        "print('Month', date[3:5])\n",
        "print('Year', date[6:])\n",
        "\n",
        "date = input(\"Enter the date of your birth in day/month/year format: \")\n",
        "day = date[:date.find('/')]\n",
        "myear = date[date.find('/')+1:]\n",
        "month = myear[:myear.find('/')]\n",
        "year = myear[myear.find('/')+1:]\n",
        "print('Day', day)\n",
        "print('Month', month)\n",
        "print('Year', year)"
      ],
      "metadata": {
        "colab": {
          "base_uri": "https://localhost:8080/"
        },
        "id": "YQ14csyrsQzN",
        "outputId": "add8f3c5-bfb8-4b50-9cbd-81bc05765494"
      },
      "execution_count": 13,
      "outputs": [
        {
          "output_type": "stream",
          "name": "stdout",
          "text": [
            "Enter the date of your birth in dd/mm/yyyy format: 20/02/2003\n",
            "Day 20\n",
            "Month 02\n",
            "Year 2003\n",
            "Enter the date of your birth in day/month/year format: 20/2/2003\n",
            "Day 20\n",
            "Month 2\n",
            "Year 2003\n"
          ]
        }
      ]
    },
    {
      "cell_type": "markdown",
      "source": [
        "## Exercise\n",
        "\n",
        "Write a program that asks the console for the products in a shopping cart, separated by commas, and displays each of the products on a different line.\n",
        "\n",
        "\n",
        "\n"
      ],
      "metadata": {
        "id": "mHWzLH3VtZW_"
      }
    },
    {
      "cell_type": "code",
      "source": [
        "basket = input('Enter the products in the shopping basket separated by commas: ')\n",
        "print(\"The market lists \",basket.replace(',', '\\n'))"
      ],
      "metadata": {
        "colab": {
          "base_uri": "https://localhost:8080/"
        },
        "id": "4wkhzD-Eth5r",
        "outputId": "e7c0b5c5-6d69-4553-ff8f-dd83a549e37b"
      },
      "execution_count": 16,
      "outputs": [
        {
          "output_type": "stream",
          "name": "stdout",
          "text": [
            "Enter the products in the shopping basket separated by commas: apples,bananas,lettuce,onion\n",
            "The market lists  apples\n",
            "bananas\n",
            "lettuce\n",
            "onion\n"
          ]
        }
      ]
    },
    {
      "cell_type": "markdown",
      "source": [
        "## Solution 2\n"
      ],
      "metadata": {
        "id": "o4A4ex3ZvbNv"
      }
    },
    {
      "cell_type": "code",
      "source": [
        "basket = input('Enter the products in the shopping basket separated by commas: ')\n",
        "print('\\n'.join(basket.split(',')))"
      ],
      "metadata": {
        "colab": {
          "base_uri": "https://localhost:8080/"
        },
        "id": "JkH29uHNvj_J",
        "outputId": "2cd9c292-7e32-402a-a0d2-298475bb3733"
      },
      "execution_count": 17,
      "outputs": [
        {
          "output_type": "stream",
          "name": "stdout",
          "text": [
            "Enter the products in the shopping basket separated by commas: onion,lettuce,fish,oranges,bananas\n",
            "onion\n",
            "lettuce\n",
            "fish\n",
            "oranges\n",
            "bananas\n"
          ]
        }
      ]
    },
    {
      "cell_type": "markdown",
      "source": [
        "## Exercise\n",
        "\n",
        "Write a program that asks for the name of a product, its price and a the number of units and displays a string in the following format on the screen:\n",
        "\n",
        "`<product>: <units> units x <price>€ = <total>€`\n",
        "\n",
        "where `<units>` is the number of units with five digits, `<price>` is the unit price with 6 integer digits and 2 decimal places, and `<total>` is the total cost with 8 integer digits and 2 decimal places."
      ],
      "metadata": {
        "id": "UoxUcLiywKUF"
      }
    },
    {
      "cell_type": "code",
      "source": [
        "product=input(\"Enter the product name: \")\n",
        "price = float(input('Enter the unit price: '))\n",
        "units = int(input('Enter the number of units: '))\n",
        "print('{product}: {units:3d} units x {price:9.2f}€ = {total:11.2f}€'.format(product = product, units = units, price = price, total = units * price))"
      ],
      "metadata": {
        "colab": {
          "base_uri": "https://localhost:8080/"
        },
        "id": "PEjGNCnHwtlZ",
        "outputId": "6f23c26c-4aa9-493a-c6f9-788ceba55cd2"
      },
      "execution_count": 18,
      "outputs": [
        {
          "output_type": "stream",
          "name": "stdout",
          "text": [
            "Enter the product name: soap\n",
            "Enter the unit price: 2\n",
            "Enter the number of units: 2\n",
            "soap:   2 units x      2.00€ =        4.00€\n"
          ]
        }
      ]
    }
  ]
}